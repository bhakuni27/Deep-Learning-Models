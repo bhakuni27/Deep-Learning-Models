{
 "cells": [
  {
   "cell_type": "markdown",
   "id": "0c9980de-79b9-4731-86e9-1c12fb2cd005",
   "metadata": {},
   "source": [
    "# Restricted Boltzmann Machine (RBM)\n",
    "\n",
    "This notebook demonstrates how to implement a Restricted Boltzmann Machine (RBM) using PyTorch to build a simple movie recommendation system. We use the **MovieLens 100K** dataset to model user preferences and recommend unseen movies based on learned interactions."
   ]
  },
  {
   "cell_type": "markdown",
   "id": "356e1765-28e7-4116-b440-717aabd6018e",
   "metadata": {},
   "source": [
    "## Importing Libraries"
   ]
  },
  {
   "cell_type": "code",
   "execution_count": null,
   "id": "e2e3c317-06e3-48be-8f63-048d94f1fa64",
   "metadata": {},
   "outputs": [],
   "source": [
    "# Data handling \n",
    "import numpy as np\n",
    "import pandas as pd\n",
    "\n",
    "# Visualization\n",
    "import matplotlib.pyplot as plt\n",
    "import seaborn as sns\n",
    "\n",
    "# PyTorch for building the RBM\n",
    "import torch\n",
    "import torch.nn as nn\n",
    "import torch.optim as optim\n",
    "\n",
    "# Additional Utilities\n",
    "import random\n",
    "from sklearn.preprocessing import LabelEncoder"
   ]
  },
  {
   "cell_type": "markdown",
   "id": "24d410f0-4953-4f31-a493-fda416ee2339",
   "metadata": {},
   "source": [
    "## Data Loading and Exploration"
   ]
  },
  {
   "cell_type": "code",
   "execution_count": null,
   "id": "c1fb4c2a-b38d-4fb4-ad6e-c0e3f414c910",
   "metadata": {},
   "outputs": [],
   "source": [
    "# Load the dataset\n",
    "# u.data from MovieLens 100K (tab-separated: user_id, item_id, rating, timestamp)\n",
    "df = pd.read_csv('data/u.data', sep='\\t', names=['user_id', 'item_id', 'rating', 'timestamp'])\n",
    "df"
   ]
  },
  {
   "cell_type": "code",
   "execution_count": null,
   "id": "216637ce-b6cc-438c-b36e-13c95e9d1bd9",
   "metadata": {},
   "outputs": [],
   "source": [
    "# Basic info about datatypes and nulls\n",
    "print(\"Dataset Info:\")\n",
    "df.info()"
   ]
  },
  {
   "cell_type": "code",
   "execution_count": null,
   "id": "b11ed7dc-e9b6-4158-87d5-40fdfe1f9099",
   "metadata": {},
   "outputs": [],
   "source": [
    "# Unique users and movies\n",
    "n_users = df['user_id'].nunique()\n",
    "n_items = df['item_id'].nunique()\n",
    "print(f\"Number of unique users: {n_users}\")\n",
    "print(f\"Number of unique items (movies): {n_items}\")"
   ]
  },
  {
   "cell_type": "code",
   "execution_count": null,
   "id": "19d40eea-f275-4ddf-b632-fa2ee709e1b5",
   "metadata": {},
   "outputs": [],
   "source": [
    "# Set style and color palette\n",
    "sns.set(style='whitegrid', palette='pastel', font_scale=1.1)\n",
    "plt.rcParams['figure.figsize'] = (8, 5)"
   ]
  },
  {
   "cell_type": "code",
   "execution_count": null,
   "id": "4e510e39-9ed4-4b6e-bde2-2435bf3ac09f",
   "metadata": {},
   "outputs": [],
   "source": [
    "# Distribution of ratings\n",
    "sns.countplot(data=df, x='rating', order=sorted(df['rating'].unique()), edgecolor='black')\n",
    "plt.title('Distribution of Ratings')\n",
    "plt.xlabel('Rating')\n",
    "plt.ylabel('Number of Ratings')\n",
    "plt.show()"
   ]
  },
  {
   "cell_type": "markdown",
   "id": "f571723a-cfd8-4e47-b75b-9276ddcd9833",
   "metadata": {},
   "source": [
    "We plotted how ratings are distributed across the dataset.\n",
    "\n",
    "- Ratings **4 and 3 are the most frequent**, followed by 5.\n",
    "- Very few ratings fall below 3, which suggests users are more likely to give positive feedback.\n",
    "\n",
    "**This informed our decision to binarize ratings**, treating 4 and 5 as liked (1), and the rest as not liked (0). This simplifies the modeling and focuses on positive recommendations."
   ]
  },
  {
   "cell_type": "code",
   "execution_count": null,
   "id": "791511c6-03fd-439d-b914-5aa8b8be9c48",
   "metadata": {},
   "outputs": [],
   "source": [
    "# User Activity\n",
    "user_activity = df.groupby('user_id')['item_id'].count()\n",
    "sns.histplot(user_activity, bins=30, edgecolor='black')\n",
    "plt.title('User Rating Counts')\n",
    "plt.xlabel('Number of Movies Rated')\n",
    "plt.ylabel('Number of Users')\n",
    "plt.show()"
   ]
  },
  {
   "cell_type": "markdown",
   "id": "e7f7d1c8-6303-47cb-aeb3-cb845e9e8213",
   "metadata": {},
   "source": [
    "This plot shows how many movies each user has rated.\n",
    "\n",
    "- Most users rated **very few movies** (fewer than 50).\n",
    "- A small number of users are highly active, rating hundreds of movies.\n",
    "- This creates a **long tail distribution** where many users contribute little data.\n",
    " \n",
    "Sparse user profiles can make it harder for the model to learn preferences accurately. However, we will proceed without filtering for now and observe model performance. Later, we may consider removing extremely inactive users to improve learning."
   ]
  },
  {
   "cell_type": "code",
   "execution_count": null,
   "id": "62e3d224-4979-460c-abd8-073c12de4800",
   "metadata": {},
   "outputs": [],
   "source": [
    "# Most Rated Movies\n",
    "item_popularity = df.groupby('item_id')['user_id'].count()\n",
    "sns.histplot(item_popularity, bins=30, edgecolor='black')\n",
    "plt.title('Movie Rating Counts')\n",
    "plt.xlabel('Number of Users per Movie')\n",
    "plt.ylabel('Number of Movies')\n",
    "plt.show()"
   ]
  },
  {
   "cell_type": "markdown",
   "id": "01614606-f3d3-491f-90f6-09775af2a4fb",
   "metadata": {},
   "source": [
    "This plot shows how often each movie was rated across users.\n",
    "\n",
    "- A large number of movies are rated by **fewer than 20 users**.\n",
    "- Only a few movies are rated by hundreds of users.\n",
    "- The dataset is **movie-sparse**, making cold-start issues likely for lesser-known movies.\n",
    "- The model will tend to favor popular movies due to richer training data.\n",
    "\n",
    "We will continue with all movies included for now and evaluate the model's effectiveness. Later, we can test whether filtering out movies with too few ratings improves recommendations."
   ]
  },
  {
   "cell_type": "markdown",
   "id": "2346797e-b5fb-4542-ac2e-5a69a43f7833",
   "metadata": {},
   "source": [
    "## Preprocessing"
   ]
  },
  {
   "cell_type": "code",
   "execution_count": null,
   "id": "81ac7058-4cac-4fb9-8231-5b7672ac5cdc",
   "metadata": {},
   "outputs": [],
   "source": [
    "# Binarize ratings: 1 for 'liked' (4 or 5), 0 for others\n",
    "df['binarized_rating'] = df['rating'].apply(lambda x: 1 if x >= 4 else 0)\n",
    "\n",
    "# Create user-item matrix with binarized ratings\n",
    "user_item_matrix = df.pivot(index='user_id', columns='item_id', values='binarized_rating')\n",
    "\n",
    "# Fill missing values with -1 (indicates unrated)\n",
    "user_item_matrix.fillna(-1, inplace=True)\n",
    "\n",
    "# Store mappings for decoding\n",
    "user_id_mapping = {idx: i for i, idx in enumerate(user_item_matrix.index)}\n",
    "movie_id_mapping = {idx: i for i, idx in enumerate(user_item_matrix.columns)}\n",
    "\n",
    "# Convert to PyTorch tensor\n",
    "training_data = torch.FloatTensor(user_item_matrix.values)\n",
    "\n",
    "# Clone training and test data to simulate hiding ratings for evaluation\n",
    "train_data = training_data.clone()\n",
    "test_data = training_data.clone()\n",
    "\n",
    "# Mask a few ratings per user in train_data, retain them in test_data for evaluation\n",
    "for user in range(training_data.shape[0]):\n",
    "    rated_items = torch.where(training_data[user] != -1)[0]\n",
    "    \n",
    "    if len(rated_items) >= 10:\n",
    "        test_items = random.sample(rated_items.tolist(), k=2)\n",
    "        for item in test_items:\n",
    "            train_data[user][item] = -1  # hide from training\n",
    "    else:\n",
    "        test_data[user] = -1  # not enough data for reliable testing"
   ]
  }
 ],
 "metadata": {
  "kernelspec": {
   "display_name": "Python 3 (ipykernel)",
   "language": "python",
   "name": "python3"
  },
  "language_info": {
   "codemirror_mode": {
    "name": "ipython",
    "version": 3
   },
   "file_extension": ".py",
   "mimetype": "text/x-python",
   "name": "python",
   "nbconvert_exporter": "python",
   "pygments_lexer": "ipython3",
   "version": "3.12.3"
  }
 },
 "nbformat": 4,
 "nbformat_minor": 5
}
